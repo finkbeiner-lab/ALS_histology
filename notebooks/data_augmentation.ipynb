{
 "cells": [
  {
   "cell_type": "code",
   "execution_count": 10,
   "metadata": {},
   "outputs": [],
   "source": [
    "import pandas as pd\n",
    "import numpy as np\n",
    "from glob import glob\n",
    "import os\n",
    "import json\n",
    "from PIL import Image\n",
    "import albumentations as A\n",
    "import random\n",
    "import os\n",
    "from os.path import exists\n",
    "#import glob\n",
    "import json\n",
    "import shutil\n",
    "import random \n",
    "import cv2"
   ]
  },
  {
   "cell_type": "code",
   "execution_count": 2,
   "metadata": {},
   "outputs": [],
   "source": [
    "fals_lumbar = glob(\"/gladstone/finkbeiner/steve/work/data/npsad_data/monika/ALS/all_crops/fals-lumbar/*\")"
   ]
  },
  {
   "cell_type": "code",
   "execution_count": 3,
   "metadata": {},
   "outputs": [
    {
     "data": {
      "text/plain": [
       "6"
      ]
     },
     "execution_count": 3,
     "metadata": {},
     "output_type": "execute_result"
    }
   ],
   "source": [
    "len(fals_lumbar)"
   ]
  },
  {
   "cell_type": "code",
   "execution_count": 4,
   "metadata": {},
   "outputs": [],
   "source": [
    "sals_lumbar = glob(\"/gladstone/finkbeiner/steve/work/data/npsad_data/monika/ALS/all_crops/sals-lumbar/*\")"
   ]
  },
  {
   "cell_type": "code",
   "execution_count": 5,
   "metadata": {},
   "outputs": [
    {
     "data": {
      "text/plain": [
       "9"
      ]
     },
     "execution_count": 5,
     "metadata": {},
     "output_type": "execute_result"
    }
   ],
   "source": [
    "len(sals_lumbar)"
   ]
  },
  {
   "cell_type": "code",
   "execution_count": 6,
   "metadata": {},
   "outputs": [],
   "source": [
    "num_elements_to_select = 2\n",
    "random_sample = random.sample(fals_lumbar, num_elements_to_select)\n",
    "random_sample = ['/gladstone/finkbeiner/steve/work/data/npsad_data/monika/ALS/all_crops/fals-lumbar/NEUKZ727YY5_Lumbar_pTDP_43',\n",
    " '/gladstone/finkbeiner/steve/work/data/npsad_data/monika/ALS/all_crops/fals-lumbar/NEUNY116EZW_Spinal_Cord_Lumbar_pTDP_43']"
   ]
  },
  {
   "cell_type": "code",
   "execution_count": 7,
   "metadata": {},
   "outputs": [],
   "source": [
    "num_elements_to_select = 3\n",
    "random_sample2 = random.sample(sals_lumbar, num_elements_to_select)\n",
    "random_sample2 = ['/gladstone/finkbeiner/steve/work/data/npsad_data/monika/ALS/all_crops/sals-lumbar/NEUDK592BDZ_Lumbosacral_Spinal_Cord_pTDP_43',\n",
    " '/gladstone/finkbeiner/steve/work/data/npsad_data/monika/ALS/all_crops/sals-lumbar/NEUCP856ZH7_Spinal_Cord_Lumbar_pTDP_43',\n",
    " '/gladstone/finkbeiner/steve/work/data/npsad_data/monika/ALS/all_crops/sals-lumbar/NEUEL133AK6_Lumbar_pTDP_43']"
   ]
  },
  {
   "cell_type": "code",
   "execution_count": 8,
   "metadata": {},
   "outputs": [
    {
     "name": "stdout",
     "output_type": "stream",
     "text": [
      "4\n",
      "6\n"
     ]
    }
   ],
   "source": [
    "train_samples = [x for x in fals_lumbar if x not in random_sample]\n",
    "print(len(train_samples))\n",
    "train_samples2 = [x for x in sals_lumbar if x not in random_sample2]\n",
    "print(len(train_samples2))\n",
    "train_samples.extend(train_samples2)"
   ]
  },
  {
   "cell_type": "code",
   "execution_count": 9,
   "metadata": {},
   "outputs": [
    {
     "data": {
      "text/plain": [
       "10"
      ]
     },
     "execution_count": 9,
     "metadata": {},
     "output_type": "execute_result"
    }
   ],
   "source": [
    "len(train_samples)"
   ]
  },
  {
   "cell_type": "code",
   "execution_count": 41,
   "metadata": {},
   "outputs": [],
   "source": [
    "def filter_masks(mask_path):\n",
    "    mask = np.array(Image.open(mask_path).convert(\"P\"))\n",
    "    contours, _ = cv2.findContours(mask, cv2.RETR_EXTERNAL, cv2.CHAIN_APPROX_SIMPLE)\n",
    "    contour_with_area = [(c, cv2.contourArea(c)) for c in contours]\n",
    "    selected_contours = [k for k in contour_with_area if k[1]>2000]\n",
    "    if len(selected_contours)>=1:\n",
    "        return False\n",
    "    else:\n",
    "        return True"
   ]
  },
  {
   "cell_type": "code",
   "execution_count": 51,
   "metadata": {},
   "outputs": [],
   "source": [
    "# Check count of labels on folders\n",
    "all_images = []\n",
    "all_masks = []\n",
    "\n",
    "for file in train_samples:\n",
    "    all_images.extend(glob(os.path.join(file,'image/*.png')))\n",
    "    all_masks.extend(glob(os.path.join(file,'mask/*.png')))\n",
    "    \n",
    "\n",
    "#all_images = glob(os.path.join(\"/gladstone/finkbeiner/steve/work/data/npsad_data/monika/ALS/all_crops/*/*/image\",'*.png'))\n",
    "#all_masks = glob(os.path.join(\"/gladstone/finkbeiner/steve/work/data/npsad_data/monika/ALS/all_crops/*/*/mask\",'*.png'))\n",
    "\n",
    "all_images.sort()\n",
    "all_masks.sort()\n",
    "\n",
    "\n",
    "pre_images, pre_masks, neg_images, neg_masks = [],[],[],[]\n",
    "for image, mask in zip(all_images,all_masks):\n",
    "    found = np.unique(np.array(Image.open(mask)))\n",
    "    filter_flag = filter_masks(mask)\n",
    "    if filter_flag==False:\n",
    "        if 100 in found:\n",
    "            pre_images.append(image)\n",
    "            pre_masks.append(mask)\n",
    "        if 200 in found:\n",
    "            neg_images.append(image)\n",
    "            neg_masks.append(mask)"
   ]
  },
  {
   "cell_type": "code",
   "execution_count": 52,
   "metadata": {},
   "outputs": [
    {
     "data": {
      "text/plain": [
       "466"
      ]
     },
     "execution_count": 52,
     "metadata": {},
     "output_type": "execute_result"
    }
   ],
   "source": [
    "len(all_images)"
   ]
  },
  {
   "cell_type": "code",
   "execution_count": 53,
   "metadata": {},
   "outputs": [
    {
     "data": {
      "text/plain": [
       "172"
      ]
     },
     "execution_count": 53,
     "metadata": {},
     "output_type": "execute_result"
    }
   ],
   "source": [
    "len(pre_images)"
   ]
  },
  {
   "cell_type": "code",
   "execution_count": 55,
   "metadata": {},
   "outputs": [
    {
     "data": {
      "text/plain": [
       "221"
      ]
     },
     "execution_count": 55,
     "metadata": {},
     "output_type": "execute_result"
    }
   ],
   "source": [
    "len(neg_images)"
   ]
  },
  {
   "cell_type": "code",
   "execution_count": 57,
   "metadata": {},
   "outputs": [],
   "source": [
    "# Use transformations for image\n",
    "transforms  = A.Compose([ A.VerticalFlip(p=0.5),\n",
    "                            A.HorizontalFlip(p=0.5),\n",
    "                            A.Blur(blur_limit=1,p=0.2),\n",
    "                            A.RandomRotate90(),\n",
    "                            A.ColorJitter(brightness=0.2, contrast=0.2, saturation=0.2, hue=0.1, p=0.5),\n",
    "                            A.AdvancedBlur(p=0.2)\n",
    "                        ])\n",
    "\n",
    "# select files randomly\n",
    "def get_randimages_dataug(total_imgs, image_filenames, label_filenames):\n",
    "    image_filenames.sort()\n",
    "    label_filenames.sort()\n",
    "    random_image_file = []\n",
    "    random_label_file = []\n",
    "    for i in range(total_imgs):\n",
    "        random.seed(i)\n",
    "        random_image_file.append(random.choice(image_filenames))\n",
    "        random.seed(i)\n",
    "        random_label_file.append(random.choice(label_filenames))\n",
    "    return [random_image_file, random_label_file]\n",
    "\n",
    "# upsample dataset with the augmentations\n",
    "def upsample_dataset(dataset_base_dir, random_img_filenames, rand_label_filenames, variations, transforms, dest_img_folder_name, dest_label_folder_name):\n",
    "    i = 0\n",
    "    aug_img_files = []\n",
    "    aug_mask_files = []\n",
    "\n",
    "    # Make dir where tha augmented file will reside\n",
    "    aug_img_dir = os.path.join(dataset_base_dir, dest_img_folder_name)\n",
    "    if not os.path.exists(aug_img_dir):\n",
    "            os.makedirs(aug_img_dir)\n",
    "            print(\"Augmented Directory '%s' created\" %aug_img_dir)\n",
    "    \n",
    "    aug_mask_dir = os.path.join(dataset_base_dir, dest_label_folder_name)\n",
    "    if not os.path.exists(aug_mask_dir):\n",
    "            os.makedirs(aug_mask_dir)\n",
    "            print(\"Augmented Directory '%s' created\" %aug_mask_dir)\n",
    "\n",
    "    print(os.listdir(dataset_base_dir))\n",
    "    print(\"\\nData Augmentation in Progress ...\")\n",
    "    total_imgs = len(random_img_filenames)\n",
    "    \n",
    "    for i in range(total_imgs):\n",
    "        # load the image\n",
    "        img = Image.open(random_img_filenames[i]).convert(\"RGB\")\n",
    "        img = np.array(img)\n",
    "        mask = Image.open(rand_label_filenames[i]).convert('P')\n",
    "        mask = np.array(mask)\n",
    "\n",
    "        for j in range(variations):\n",
    "                transformed = transforms(image=img, mask=mask)\n",
    "                transformed_img = transformed[\"image\"]\n",
    "                transformed_img = Image.fromarray(transformed_img)\n",
    "\n",
    "                #To rename the file with prefix A_\n",
    "                filename = os.path.basename(random_img_filenames[i])\n",
    "                filepath = os.path.dirname(random_img_filenames[i])\n",
    "\n",
    "                aug_file_name = \"A_\" + str(i) + \"_\" + str(j) + \"_\" + filename\n",
    "                new_file = os.path.join(dataset_base_dir,dest_img_folder_name,\n",
    "                                        aug_file_name)\n",
    "                transformed_img.save(new_file)\n",
    "                aug_img_files.append(new_file)\n",
    "\n",
    "                transformed_mask = transformed[\"mask\"]\n",
    "                transformed_mask = Image.fromarray(transformed_mask)\n",
    "\n",
    "                #To rename the file with prefix A_\n",
    "                filename = os.path.basename(rand_label_filenames[i])\n",
    "                filepath = os.path.dirname(rand_label_filenames[i])\n",
    "                aug_file_name = \"A_\" + str(i) + \"_\" + str(j) + \"_\" + filename\n",
    "                new_file = os.path.join(dataset_base_dir, dest_label_folder_name,\n",
    "                                        aug_file_name)\n",
    "                transformed_mask.save(new_file)\n",
    "                aug_mask_files.append(new_file)\n",
    "    return aug_img_files, aug_mask_files"
   ]
  },
  {
   "cell_type": "code",
   "execution_count": 58,
   "metadata": {},
   "outputs": [
    {
     "name": "stdout",
     "output_type": "stream",
     "text": [
      "Augmented Directory '/gladstone/finkbeiner/steve/work/data/npsad_data//monika/ALS/training_dataset/train_filtered/images' created\n",
      "Augmented Directory '/gladstone/finkbeiner/steve/work/data/npsad_data//monika/ALS/training_dataset/train_filtered/labels' created\n",
      "['labels', 'images']\n",
      "\n",
      "Data Augmentation in Progress ...\n"
     ]
    }
   ],
   "source": [
    "aug_value = 2000\n",
    "rand_image_filenames, rand_label_filenames = get_randimages_dataug(aug_value, pre_images, pre_masks)\n",
    "#dataset_base_dir = \"/gladstone/finkbeiner/steve/work/data/npsad_data//monika/ALS/training_dataset/train\"\n",
    "dataset_base_dir = \"/gladstone/finkbeiner/steve/work/data/npsad_data//monika/ALS/training_dataset/train_filtered\"\n",
    "\n",
    "aug_img_files, aug_mask_files = upsample_dataset(dataset_base_dir, rand_image_filenames, rand_label_filenames, 1, transforms, \"images\", \"labels\")"
   ]
  },
  {
   "cell_type": "code",
   "execution_count": 59,
   "metadata": {},
   "outputs": [
    {
     "name": "stdout",
     "output_type": "stream",
     "text": [
      "['labels', 'images']\n",
      "\n",
      "Data Augmentation in Progress ...\n"
     ]
    }
   ],
   "source": [
    "aug_value = 2000\n",
    "rand_image_filenames, rand_label_filenames = get_randimages_dataug(aug_value, neg_images, neg_masks)\n",
    "#dataset_base_dir = \"/gladstone/finkbeiner/steve/work/data/npsad_data//monika/ALS/training_dataset/train\"\n",
    "dataset_base_dir = \"/gladstone/finkbeiner/steve/work/data/npsad_data//monika/ALS/training_dataset/train_filtered\"\n",
    "aug_img_files, aug_mask_files = upsample_dataset(dataset_base_dir, rand_image_filenames, rand_label_filenames, 1, transforms, \"images\", \"labels\")"
   ]
  },
  {
   "cell_type": "markdown",
   "metadata": {},
   "source": [
    "## VAL data"
   ]
  },
  {
   "cell_type": "code",
   "execution_count": 60,
   "metadata": {},
   "outputs": [
    {
     "name": "stdout",
     "output_type": "stream",
     "text": [
      "5\n"
     ]
    }
   ],
   "source": [
    "# Check count of labels on folders\n",
    "all_images = []\n",
    "all_masks = []\n",
    "\n",
    "\n",
    "val_samples = ['/gladstone/finkbeiner/steve/work/data/npsad_data/monika/ALS/all_crops/fals-lumbar/NEUKZ727YY5_Lumbar_pTDP_43',\n",
    " '/gladstone/finkbeiner/steve/work/data/npsad_data/monika/ALS/all_crops/fals-lumbar/NEUNY116EZW_Spinal_Cord_Lumbar_pTDP_43',\n",
    " '/gladstone/finkbeiner/steve/work/data/npsad_data/monika/ALS/all_crops/sals-lumbar/NEUDK592BDZ_Lumbosacral_Spinal_Cord_pTDP_43',\n",
    " '/gladstone/finkbeiner/steve/work/data/npsad_data/monika/ALS/all_crops/sals-lumbar/NEUCP856ZH7_Spinal_Cord_Lumbar_pTDP_43',\n",
    " '/gladstone/finkbeiner/steve/work/data/npsad_data/monika/ALS/all_crops/sals-lumbar/NEUEL133AK6_Lumbar_pTDP_43']\n",
    "\n",
    "print(len(val_samples))\n",
    "\n",
    "for file in val_samples:\n",
    "    all_images.extend(glob(os.path.join(file,'image/*.png')))\n",
    "    all_masks.extend(glob(os.path.join(file,'mask/*.png')))\n",
    "\n",
    "all_images.sort()\n",
    "all_masks.sort()\n",
    "\n",
    "pre_images, pre_masks, neg_images, neg_masks = [],[],[],[]\n",
    "for image, mask in zip(all_images,all_masks):\n",
    "    found = np.unique(np.array(Image.open(mask)))\n",
    "    filter_flag = filter_masks(mask)\n",
    "    if filter_flag==False:\n",
    "        if 100 in found:\n",
    "            pre_images.append(image)\n",
    "            pre_masks.append(mask)\n",
    "        if 200 in found:\n",
    "            neg_images.append(image)\n",
    "            neg_masks.append(mask)"
   ]
  },
  {
   "cell_type": "code",
   "execution_count": 61,
   "metadata": {},
   "outputs": [
    {
     "data": {
      "text/plain": [
       "178"
      ]
     },
     "execution_count": 61,
     "metadata": {},
     "output_type": "execute_result"
    }
   ],
   "source": [
    "len(pre_images)"
   ]
  },
  {
   "cell_type": "code",
   "execution_count": 62,
   "metadata": {},
   "outputs": [
    {
     "data": {
      "text/plain": [
       "48"
      ]
     },
     "execution_count": 62,
     "metadata": {},
     "output_type": "execute_result"
    }
   ],
   "source": [
    "len(neg_images)"
   ]
  },
  {
   "cell_type": "code",
   "execution_count": 63,
   "metadata": {},
   "outputs": [
    {
     "name": "stdout",
     "output_type": "stream",
     "text": [
      "Augmented Directory '/gladstone/finkbeiner/steve/work/data/npsad_data/monika/ALS/training_dataset/val_filtered/images' created\n",
      "Augmented Directory '/gladstone/finkbeiner/steve/work/data/npsad_data/monika/ALS/training_dataset/val_filtered/labels' created\n",
      "['labels', 'images']\n",
      "\n",
      "Data Augmentation in Progress ...\n"
     ]
    }
   ],
   "source": [
    "aug_value = 500\n",
    "rand_image_filenames, rand_label_filenames = get_randimages_dataug(aug_value, pre_images, pre_masks)\n",
    "dataset_base_dir = \"/gladstone/finkbeiner/steve/work/data/npsad_data/monika/ALS/training_dataset/val_filtered\"\n",
    "aug_img_files, aug_mask_files = upsample_dataset(dataset_base_dir, rand_image_filenames, rand_label_filenames, 1, transforms, \"images\", \"labels\")"
   ]
  },
  {
   "cell_type": "code",
   "execution_count": 64,
   "metadata": {},
   "outputs": [
    {
     "name": "stdout",
     "output_type": "stream",
     "text": [
      "['labels', 'images']\n",
      "\n",
      "Data Augmentation in Progress ...\n"
     ]
    }
   ],
   "source": [
    "aug_value = 500\n",
    "rand_image_filenames, rand_label_filenames = get_randimages_dataug(aug_value, neg_images, neg_masks)\n",
    "dataset_base_dir = \"/gladstone/finkbeiner/steve/work/data/npsad_data/monika/ALS/training_dataset/val_filtered\"\n",
    "aug_img_files, aug_mask_files = upsample_dataset(dataset_base_dir, rand_image_filenames, rand_label_filenames, 1, transforms, \"images\", \"labels\")"
   ]
  },
  {
   "cell_type": "code",
   "execution_count": null,
   "metadata": {},
   "outputs": [],
   "source": []
  }
 ],
 "metadata": {
  "kernelspec": {
   "display_name": "kfold_amy_plaque1",
   "language": "python",
   "name": "python3"
  },
  "language_info": {
   "codemirror_mode": {
    "name": "ipython",
    "version": 3
   },
   "file_extension": ".py",
   "mimetype": "text/x-python",
   "name": "python",
   "nbconvert_exporter": "python",
   "pygments_lexer": "ipython3",
   "version": "3.9.7"
  },
  "orig_nbformat": 4
 },
 "nbformat": 4,
 "nbformat_minor": 2
}
