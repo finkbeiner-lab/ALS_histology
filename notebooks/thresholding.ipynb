{
 "cells": [
  {
   "cell_type": "code",
   "execution_count": 1,
   "id": "f8100cf2",
   "metadata": {},
   "outputs": [
    {
     "name": "stderr",
     "output_type": "stream",
     "text": [
      "/home/mahirwar/miniconda3/envs/kfold_amy_plaque1/lib/python3.9/site-packages/pandas/core/computation/expressions.py:21: UserWarning: Pandas requires version '2.8.4' or newer of 'numexpr' (version '2.8.3' currently installed).\n",
      "  from pandas.core.computation.check import NUMEXPR_INSTALLED\n",
      "/home/mahirwar/miniconda3/envs/kfold_amy_plaque1/lib/python3.9/site-packages/pandas/core/arrays/masked.py:60: UserWarning: Pandas requires version '1.3.6' or newer of 'bottleneck' (version '1.3.5' currently installed).\n",
      "  from pandas.core import (\n"
     ]
    }
   ],
   "source": [
    "import os\n",
    "import numpy as np\n",
    "import openslide\n",
    "from openslide.deepzoom import DeepZoomGenerator\n",
    "from openslide import open_slide, ImageSlide\n",
    "from PIL import Image\n",
    "from matplotlib import pyplot as plt\n",
    "from openslide import OpenSlide\n",
    "import cv2\n",
    "import numpy as np\n",
    "from matplotlib import pyplot as plt\n",
    "from openslide import OpenSlide\n",
    "\n",
    "import torch\n",
    "import torch.nn as nn\n",
    "import torch.nn.functional as F\n",
    "from torch.utils.data import Dataset, DataLoader\n",
    "from torchvision import transforms\n",
    "import pandas as pd\n",
    "import pyvips\n",
    "from torchvision.transforms import ToPILImage"
   ]
  },
  {
   "cell_type": "code",
   "execution_count": 140,
   "id": "9adaf90f",
   "metadata": {},
   "outputs": [],
   "source": [
    "# --- 1. Load DINO-v2 Backbone ---\n",
    "\n",
    "def get_dino_v2_backbone():\n",
    "    # This returns a model directly, not a state_dict\n",
    "    backbone = torch.hub.load(\"facebookresearch/dinov2\", \"dinov2_vitb14\")  # ✅ this is already a model\n",
    "    return backbone\n",
    "\n",
    "\n",
    "class DINOv2SegmentationModel(nn.Module):\n",
    "    def __init__(self, backbone, num_classes):\n",
    "        super().__init__()\n",
    "        self.backbone = backbone\n",
    "        self.num_classes = num_classes\n",
    "        self.decoder = nn.Sequential(\n",
    "            nn.Conv2d(768, 256, kernel_size=3, padding=1),\n",
    "            nn.ReLU(),\n",
    "            nn.Conv2d(256, num_classes, kernel_size=1)\n",
    "        )\n",
    "\n",
    "    def forward(self, x):\n",
    "        B, C, H, W = x.shape\n",
    "        features = self.backbone.get_intermediate_layers(x, n=1)[0]  # (B, N, 768)\n",
    "        feat_size = int(features.shape[1] ** 0.5)\n",
    "        features = features.permute(0, 2, 1).reshape(B, 768, feat_size, feat_size)  # (B, 768, h, w)\n",
    "        out = self.decoder(features)  # (B, num_classes, h, w)\n",
    "        out = F.interpolate(out, size=(H, W), mode='bilinear', align_corners=False)  # upscale to 1022x1022\n",
    "        return out\n",
    "    \n",
    "def make_prediction(image):\n",
    "    transform = transforms.Compose([\n",
    "        transforms.Resize((1022, 1022)),\n",
    "        transforms.ToTensor(),\n",
    "        transforms.Normalize([0.5]*3, [0.5]*3)\n",
    "    ])\n",
    "\n",
    "    #image = Image.open(img_path).convert(\"RGB\")\n",
    "    image = image.convert(\"RGB\")\n",
    "    input_tensor = transform(image).unsqueeze(0).to(device)  # (1, 3, 1022, 1022)\n",
    "    image_np = np.array(image.convert(\"RGB\").resize((1022, 1022)))\n",
    "    with torch.no_grad():\n",
    "        output = model(input_tensor)  # (1, num_classes, 1022, 1022)\n",
    "        print(output, output.shape)\n",
    "        #pred_mask = output.argmax(dim=1).squeeze(0).cpu().numpy()  # (1022, 1022)\n",
    "        probs = torch.softmax(output, dim=1)  # convert logits → probabilities\n",
    "        conf, pred = torch.max(probs, dim=1)  # conf: confidence per pixel, pred: predicted class\n",
    "        conf = conf.squeeze(0).cpu().numpy()  # (1022, 1022)\n",
    "        pred_mask = pred.squeeze(0).cpu().numpy()  # (1022, 1022)\n",
    "        threshold = 0.99  # choose based on your model's calibration\n",
    "        high_conf_mask = np.where(conf >= threshold, pred_mask, 0)\n",
    "        print(high_conf_mask)\n",
    "        \n",
    "    mask_rescaled = cv2.resize(high_conf_mask, (512, 512), interpolation=cv2.INTER_NEAREST)\n",
    "    return image_np, mask_rescaled"
   ]
  },
  {
   "cell_type": "code",
   "execution_count": 3,
   "id": "49f7ee2b",
   "metadata": {},
   "outputs": [],
   "source": [
    "def is_background(tile, threshold=0.8):\n",
    "    \"\"\"\n",
    "    Check if a tile is mostly background (white).\n",
    "    Args:\n",
    "        tile (PIL.Image): The tile image.\n",
    "        threshold (float): Fraction of white pixels to consider as background (0.0–1.0).\n",
    "    Returns:\n",
    "        bool: True if background, False otherwise.\n",
    "    \"\"\"\n",
    "    img = np.array(tile.convert(\"L\"))  # Convert to grayscale\n",
    "    white_pixels = np.sum(img > 240)   # Count near-white pixels\n",
    "    total_pixels = img.size\n",
    "    white_ratio = white_pixels / total_pixels\n",
    "    return white_ratio > threshold\n",
    "\n",
    "\n",
    "def get_bbox(row, col,pred_mask):\n",
    "    class_ids = np.unique(pred_mask)\n",
    "    class_ids = class_ids[class_ids != 0]\n",
    "    pred_boxes = []\n",
    "    for class_id in class_ids:\n",
    "        # Create binary mask for this class\n",
    "        binary = (pred_mask == class_id).astype(np.uint8)\n",
    "\n",
    "        # Find contours for that class\n",
    "        contours, _ = cv2.findContours(binary, cv2.RETR_EXTERNAL, cv2.CHAIN_APPROX_SIMPLE)\n",
    "        \n",
    "        #contours = list(map(lambda t: t[0], sorted([(contour, cv2.contourArea(contour)) for contour in contours], key=lambda t: -t[1])))\n",
    "\n",
    "        sorted_with_area = sorted([(c, cv2.contourArea(c)) for c in contours], key=lambda x: x[1],reverse=True)\n",
    "        for contour, area in sorted_with_area:\n",
    "            if area>5000:\n",
    "                print(area)\n",
    "                x, y, w, h = cv2.boundingRect(contour)\n",
    "                pred_boxes.append([row, col, x, y, w, h])\n",
    "            #cv2.rectangle(img, (x, y), (x + w, y + h), (255, 0, 0), 4)\n",
    "    return pred_boxes\n",
    "\n",
    "\n",
    "def tile_svs(slide_path, output_dir, tile_size=512, overlap=0, limit_bounds=True, level=0, bg_threshold=0.8):\n",
    "    \"\"\"\n",
    "    Tile a single .svs file into small image patches and save non-background tiles as JPEGs.\n",
    "    \n",
    "    Args:\n",
    "        slide_path (str): Path to the .svs file.\n",
    "        output_dir (str): Directory to save tiles.\n",
    "        tile_size (int): Tile size (default=512).\n",
    "        overlap (int): Overlap between tiles (default=0).\n",
    "        limit_bounds (bool): Restrict to non-empty region.\n",
    "        level (int): DeepZoom level to extract tiles from (default=0 = highest resolution).\n",
    "        bg_threshold (float): Fraction of white pixels above which tile is considered background.\n",
    "    \"\"\"\n",
    "    slide = openslide.open_slide(slide_path)\n",
    "    dz = DeepZoomGenerator(slide, tile_size=tile_size, overlap=overlap, limit_bounds=limit_bounds)\n",
    "\n",
    "    if not os.path.exists(output_dir):\n",
    "        os.makedirs(output_dir)\n",
    "\n",
    "    cols, rows = dz.level_tiles[level]\n",
    "    print(f\"Tiling level {level} with {cols}x{rows} tiles...\")\n",
    "\n",
    "    saved = 0\n",
    "    skipped = 0\n",
    "    pred_boxes_all = []\n",
    "\n",
    "    \n",
    "    for row in range(rows):\n",
    "        for col in range(cols):\n",
    "            tile = dz.get_tile(level, (col, row))\n",
    "            if is_background(tile, threshold=bg_threshold):\n",
    "                skipped += 1\n",
    "                continue\n",
    "            img, pred_mask = make_prediction(tile)\n",
    "            pred_boxes = get_bbox(row, col, pred_mask)\n",
    "            pred_boxes_all.extend(pred_boxes)\n",
    "            \n",
    "            tile_path = os.path.join(output_dir, f\"tile_{col}_{row}.jpeg\")\n",
    "            tile.save(tile_path, \"JPEG\")\n",
    "            #break\n",
    "            #print(np.array(tile).shape)\n",
    "            saved += 1\n",
    "            if saved==1:\n",
    "                break\n",
    "        if saved==1:\n",
    "            break\n",
    "    print(f\"Done! Saved {saved} tiles, skipped {skipped} background tiles.\")\n",
    "    print(f\"Tiles saved in: {output_dir}\")\n",
    "    \n",
    "    df = pd.DataFrame(pred_boxes_all, columns=[\"row\",\"col\",\"x1\",\"y1\",\"x2\",\"y2\"])\n",
    "    \n",
    "    return df"
   ]
  },
  {
   "cell_type": "code",
   "execution_count": 4,
   "id": "07052e78",
   "metadata": {},
   "outputs": [
    {
     "name": "stderr",
     "output_type": "stream",
     "text": [
      "Using cache found in /home/mahirwar/.cache/torch/hub/facebookresearch_dinov2_main\n",
      "xFormers not available\n",
      "xFormers not available\n",
      "/tmp/ipykernel_3074650/2352124358.py:7: FutureWarning: You are using `torch.load` with `weights_only=False` (the current default value), which uses the default pickle module implicitly. It is possible to construct malicious pickle data which will execute arbitrary code during unpickling (See https://github.com/pytorch/pytorch/blob/main/SECURITY.md#untrusted-models for more details). In a future release, the default value for `weights_only` will be flipped to `True`. This limits the functions that could be executed during unpickling. Arbitrary objects will no longer be allowed to be loaded via this mode unless they are explicitly allowlisted by the user via `torch.serialization.add_safe_globals`. We recommend you start setting `weights_only=True` for any use case where you don't have full control of the loaded file. Please open an issue on GitHub for any issues related to this experimental feature.\n",
      "  model.load_state_dict(torch.load(path, map_location=device))\n"
     ]
    },
    {
     "data": {
      "text/plain": [
       "DINOv2SegmentationModel(\n",
       "  (backbone): DinoVisionTransformer(\n",
       "    (patch_embed): PatchEmbed(\n",
       "      (proj): Conv2d(3, 768, kernel_size=(14, 14), stride=(14, 14))\n",
       "      (norm): Identity()\n",
       "    )\n",
       "    (blocks): ModuleList(\n",
       "      (0-11): 12 x NestedTensorBlock(\n",
       "        (norm1): LayerNorm((768,), eps=1e-06, elementwise_affine=True)\n",
       "        (attn): MemEffAttention(\n",
       "          (qkv): Linear(in_features=768, out_features=2304, bias=True)\n",
       "          (attn_drop): Dropout(p=0.0, inplace=False)\n",
       "          (proj): Linear(in_features=768, out_features=768, bias=True)\n",
       "          (proj_drop): Dropout(p=0.0, inplace=False)\n",
       "        )\n",
       "        (ls1): LayerScale()\n",
       "        (drop_path1): Identity()\n",
       "        (norm2): LayerNorm((768,), eps=1e-06, elementwise_affine=True)\n",
       "        (mlp): Mlp(\n",
       "          (fc1): Linear(in_features=768, out_features=3072, bias=True)\n",
       "          (act): GELU(approximate='none')\n",
       "          (fc2): Linear(in_features=3072, out_features=768, bias=True)\n",
       "          (drop): Dropout(p=0.0, inplace=False)\n",
       "        )\n",
       "        (ls2): LayerScale()\n",
       "        (drop_path2): Identity()\n",
       "      )\n",
       "    )\n",
       "    (norm): LayerNorm((768,), eps=1e-06, elementwise_affine=True)\n",
       "    (head): Identity()\n",
       "  )\n",
       "  (decoder): Sequential(\n",
       "    (0): Conv2d(768, 256, kernel_size=(3, 3), stride=(1, 1), padding=(1, 1))\n",
       "    (1): ReLU()\n",
       "    (2): Conv2d(256, 3, kernel_size=(1, 1), stride=(1, 1))\n",
       "  )\n",
       ")"
      ]
     },
     "execution_count": 4,
     "metadata": {},
     "output_type": "execute_result"
    }
   ],
   "source": [
    "path = \"/gladstone/finkbeiner/steve/work/data/npsad_data/monika/ALS/dino_v2_segmentation_oct10.pth\"\n",
    "path = \"/gladstone/finkbeiner/steve/work/data/npsad_data/monika/ALS/dino_v2_segmentation_oct17.pth\"\n",
    "\n",
    "device = torch.device(\"cuda\" if torch.cuda.is_available() else \"cpu\")\n",
    "backbone = get_dino_v2_backbone()\n",
    "model = DINOv2SegmentationModel(backbone, num_classes=3)  # Update `num_classes` as needed\n",
    "model.load_state_dict(torch.load(path, map_location=device))\n",
    "model.to(device)\n",
    "model.eval()  # 🔍 Important for inference"
   ]
  },
  {
   "cell_type": "code",
   "execution_count": 10,
   "id": "9416032b",
   "metadata": {},
   "outputs": [
    {
     "name": "stdout",
     "output_type": "stream",
     "text": [
      "Tiling level 18 with 289x153 tiles...\n",
      "38046.5\n",
      "10635.5\n",
      "42510.0\n",
      "Done! Saved 1 tiles, skipped 16 background tiles.\n",
      "Tiles saved in: /gladstone/finkbeiner/steve/work/data/npsad_data/monika/ALS/tiles-npy\n"
     ]
    }
   ],
   "source": [
    "slide_path ='/gladstone/finkbeiner/steve/work/data/ALS/fals-lumbar/NEUKM699KKH_Lumbar_pTDP_43.svs'\n",
    "output_dir = '/gladstone/finkbeiner/steve/work/data/npsad_data/monika/ALS/tiles-npy'          # <-- Output folder\n",
    "df = tile_svs(\n",
    "    slide_path,\n",
    "    output_dir,\n",
    "    tile_size=512,\n",
    "    level=18,\n",
    "    limit_bounds=False,\n",
    "    bg_threshold=0.7                 # <-- Adjust to 0.7–0.9 depending on your slides\n",
    ")"
   ]
  },
  {
   "cell_type": "code",
   "execution_count": null,
   "id": "93958ef3",
   "metadata": {},
   "outputs": [],
   "source": []
  },
  {
   "cell_type": "code",
   "execution_count": 35,
   "id": "5f7dfd20",
   "metadata": {},
   "outputs": [],
   "source": [
    "df.to_csv(os.path.join(output_dir, \"NEUKM699KKH_Lumbar_pTDP_43.csv\"))"
   ]
  },
  {
   "cell_type": "code",
   "execution_count": 36,
   "id": "31547ea1",
   "metadata": {},
   "outputs": [
    {
     "data": {
      "text/html": [
       "<div>\n",
       "<style scoped>\n",
       "    .dataframe tbody tr th:only-of-type {\n",
       "        vertical-align: middle;\n",
       "    }\n",
       "\n",
       "    .dataframe tbody tr th {\n",
       "        vertical-align: top;\n",
       "    }\n",
       "\n",
       "    .dataframe thead th {\n",
       "        text-align: right;\n",
       "    }\n",
       "</style>\n",
       "<table border=\"1\" class=\"dataframe\">\n",
       "  <thead>\n",
       "    <tr style=\"text-align: right;\">\n",
       "      <th></th>\n",
       "      <th>row</th>\n",
       "      <th>col</th>\n",
       "      <th>x1</th>\n",
       "      <th>y1</th>\n",
       "      <th>x2</th>\n",
       "      <th>y2</th>\n",
       "    </tr>\n",
       "  </thead>\n",
       "  <tbody>\n",
       "    <tr>\n",
       "      <th>0</th>\n",
       "      <td>1</td>\n",
       "      <td>16</td>\n",
       "      <td>722</td>\n",
       "      <td>11</td>\n",
       "      <td>183</td>\n",
       "      <td>645</td>\n",
       "    </tr>\n",
       "    <tr>\n",
       "      <th>1</th>\n",
       "      <td>1</td>\n",
       "      <td>271</td>\n",
       "      <td>216</td>\n",
       "      <td>936</td>\n",
       "      <td>469</td>\n",
       "      <td>86</td>\n",
       "    </tr>\n",
       "    <tr>\n",
       "      <th>2</th>\n",
       "      <td>1</td>\n",
       "      <td>271</td>\n",
       "      <td>965</td>\n",
       "      <td>288</td>\n",
       "      <td>57</td>\n",
       "      <td>211</td>\n",
       "    </tr>\n",
       "    <tr>\n",
       "      <th>3</th>\n",
       "      <td>2</td>\n",
       "      <td>16</td>\n",
       "      <td>605</td>\n",
       "      <td>13</td>\n",
       "      <td>417</td>\n",
       "      <td>996</td>\n",
       "    </tr>\n",
       "    <tr>\n",
       "      <th>4</th>\n",
       "      <td>2</td>\n",
       "      <td>271</td>\n",
       "      <td>0</td>\n",
       "      <td>135</td>\n",
       "      <td>69</td>\n",
       "      <td>640</td>\n",
       "    </tr>\n",
       "    <tr>\n",
       "      <th>...</th>\n",
       "      <td>...</td>\n",
       "      <td>...</td>\n",
       "      <td>...</td>\n",
       "      <td>...</td>\n",
       "      <td>...</td>\n",
       "      <td>...</td>\n",
       "    </tr>\n",
       "    <tr>\n",
       "      <th>1527</th>\n",
       "      <td>152</td>\n",
       "      <td>225</td>\n",
       "      <td>0</td>\n",
       "      <td>579</td>\n",
       "      <td>690</td>\n",
       "      <td>443</td>\n",
       "    </tr>\n",
       "    <tr>\n",
       "      <th>1528</th>\n",
       "      <td>152</td>\n",
       "      <td>226</td>\n",
       "      <td>0</td>\n",
       "      <td>568</td>\n",
       "      <td>582</td>\n",
       "      <td>454</td>\n",
       "    </tr>\n",
       "    <tr>\n",
       "      <th>1529</th>\n",
       "      <td>152</td>\n",
       "      <td>285</td>\n",
       "      <td>544</td>\n",
       "      <td>951</td>\n",
       "      <td>367</td>\n",
       "      <td>61</td>\n",
       "    </tr>\n",
       "    <tr>\n",
       "      <th>1530</th>\n",
       "      <td>152</td>\n",
       "      <td>287</td>\n",
       "      <td>0</td>\n",
       "      <td>861</td>\n",
       "      <td>850</td>\n",
       "      <td>143</td>\n",
       "    </tr>\n",
       "    <tr>\n",
       "      <th>1531</th>\n",
       "      <td>152</td>\n",
       "      <td>288</td>\n",
       "      <td>137</td>\n",
       "      <td>863</td>\n",
       "      <td>634</td>\n",
       "      <td>101</td>\n",
       "    </tr>\n",
       "  </tbody>\n",
       "</table>\n",
       "<p>1532 rows × 6 columns</p>\n",
       "</div>"
      ],
      "text/plain": [
       "      row  col   x1   y1   x2   y2\n",
       "0       1   16  722   11  183  645\n",
       "1       1  271  216  936  469   86\n",
       "2       1  271  965  288   57  211\n",
       "3       2   16  605   13  417  996\n",
       "4       2  271    0  135   69  640\n",
       "...   ...  ...  ...  ...  ...  ...\n",
       "1527  152  225    0  579  690  443\n",
       "1528  152  226    0  568  582  454\n",
       "1529  152  285  544  951  367   61\n",
       "1530  152  287    0  861  850  143\n",
       "1531  152  288  137  863  634  101\n",
       "\n",
       "[1532 rows x 6 columns]"
      ]
     },
     "execution_count": 36,
     "metadata": {},
     "output_type": "execute_result"
    }
   ],
   "source": [
    "df"
   ]
  },
  {
   "cell_type": "code",
   "execution_count": 5,
   "id": "d70d7f02",
   "metadata": {},
   "outputs": [],
   "source": [
    "fname = '/gladstone/finkbeiner/steve/work/data/ALS/fals-lumbar/NEUKM699KKH_Lumbar_pTDP_43.svs'\n",
    "\n",
    "output_dir = '/gladstone/finkbeiner/steve/work/data/npsad_data/monika/ALS/tiles-npy'\n",
    "\n",
    "slide = pyvips.Image.new_from_file(fname, level=0)"
   ]
  },
  {
   "cell_type": "code",
   "execution_count": 6,
   "id": "c890b4cf",
   "metadata": {},
   "outputs": [],
   "source": [
    "im = slide.numpy()[..., :3]        "
   ]
  },
  {
   "cell_type": "code",
   "execution_count": 8,
   "id": "2edc8a54",
   "metadata": {},
   "outputs": [
    {
     "data": {
      "text/plain": [
       "(78179, 147560, 3)"
      ]
     },
     "execution_count": 8,
     "metadata": {},
     "output_type": "execute_result"
    }
   ],
   "source": [
    "im.shape"
   ]
  },
  {
   "cell_type": "code",
   "execution_count": null,
   "id": "3b8c69bb",
   "metadata": {},
   "outputs": [],
   "source": [
    "def get_tiles(h, w, size, level):\n",
    "    \"\"\"\n",
    "    Generate a list of tile coordinates for a slide image.\n",
    "    \n",
    "    Args:\n",
    "        h (int): Height of the slide.\n",
    "        w (int): Width of the slide.\n",
    "        size (int): Size of each tile.\n",
    "        level (int): The zoom level of the slide.\n",
    "        \n",
    "    Returns:\n",
    "        list: A list of tuples containing the coordinates of each tile.\n",
    "    \"\"\"\n",
    "    return [(y, x) for x in range(((w * (2 ** level)) // size) + 1) for y in range(((h * (2 ** level)) // size) + 1)]"
   ]
  },
  {
   "cell_type": "code",
   "execution_count": 9,
   "id": "cafdea02",
   "metadata": {},
   "outputs": [],
   "source": [
    "h, w = im.shape[0],  im.shape[1]\n",
    "size = 512"
   ]
  },
  {
   "cell_type": "code",
   "execution_count": 10,
   "id": "42a8cc48",
   "metadata": {},
   "outputs": [],
   "source": [
    "t = [(y, x) for x in range((w // size)-1) for y in range((h// size)-1)]"
   ]
  },
  {
   "cell_type": "code",
   "execution_count": 11,
   "id": "90ad6794",
   "metadata": {},
   "outputs": [
    {
     "data": {
      "text/plain": [
       "(147560, 78179)"
      ]
     },
     "execution_count": 11,
     "metadata": {},
     "output_type": "execute_result"
    }
   ],
   "source": [
    "w, h"
   ]
  },
  {
   "cell_type": "code",
   "execution_count": 12,
   "id": "840745f2",
   "metadata": {},
   "outputs": [
    {
     "data": {
      "text/plain": [
       "(150, 286)"
      ]
     },
     "execution_count": 12,
     "metadata": {},
     "output_type": "execute_result"
    }
   ],
   "source": [
    "t[-1]"
   ]
  },
  {
   "cell_type": "code",
   "execution_count": 13,
   "id": "e98b9489",
   "metadata": {},
   "outputs": [
    {
     "data": {
      "text/plain": [
       "43337"
      ]
     },
     "execution_count": 13,
     "metadata": {},
     "output_type": "execute_result"
    }
   ],
   "source": [
    "len(t)"
   ]
  },
  {
   "cell_type": "code",
   "execution_count": 14,
   "id": "bf1eac17",
   "metadata": {},
   "outputs": [
    {
     "data": {
      "text/plain": [
       "(150, 286)"
      ]
     },
     "execution_count": 14,
     "metadata": {},
     "output_type": "execute_result"
    }
   ],
   "source": [
    "t[-1]"
   ]
  },
  {
   "cell_type": "code",
   "execution_count": null,
   "id": "4d5f827c",
   "metadata": {},
   "outputs": [],
   "source": [
    "crop = slide.crop(t[-1][1]*512, t[-1][0]*512, 512, 512)"
   ]
  },
  {
   "cell_type": "code",
   "execution_count": null,
   "id": "605da6e2",
   "metadata": {},
   "outputs": [],
   "source": [
    "crop = np.ndarray(\n",
    "            buffer=crop.write_to_memory(), dtype=np.uint8,\n",
    "            shape=(crop.width, crop.height, crop.bands))[..., :3]  # Keep only the RGB channels"
   ]
  },
  {
   "cell_type": "code",
   "execution_count": null,
   "id": "1b438fce",
   "metadata": {},
   "outputs": [],
   "source": [
    "crop = ToPILImage()(crop)"
   ]
  },
  {
   "cell_type": "code",
   "execution_count": 19,
   "id": "4a3d5d44",
   "metadata": {},
   "outputs": [],
   "source": [
    "def crop_tile(slide, out_dir, tile, ext='png'):\n",
    "    \"\"\"\n",
    "    Crops a portion of the slide based on the specified tile and saves or returns the result.\n",
    "\n",
    "    Args:\n",
    "        slide: The slide object (e.g., pyvips.Image) to crop from.\n",
    "        out_dir (str): Output directory where the cropped tile will be saved (filename will be generated).\n",
    "        tile (tuple): The coordinates (x, y, width, height) for cropping the slide.\n",
    "        ext (str): The file extension for the output image (default is 'png').\n",
    "\n",
    "    Returns:\n",
    "        tuple: A tuple containing the output filename and the cropped tile data as a numpy array.\n",
    "    \"\"\"\n",
    "    # Generate the output filename based on the tile coordinates and extension\n",
    "    out_file = out_dir + '/'+'_'.join(map(lambda _: '_'.join(_), zip('xy', map(str, tile[:2])))) + f'.{ext}'\n",
    "    # Crop the slide using the tile coordinates and convert to numpy array\n",
    "    #crop = slide.crop(*tile).numpy()\n",
    "    crop = slide.crop(tile[1]*512, tile[0]*512, tile[2], tile[3])\n",
    "\n",
    "        # Convert the cropped image to a numpy array\n",
    "    crop = np.ndarray(\n",
    "            buffer=crop.write_to_memory(), dtype=np.uint8,\n",
    "            shape=(crop.height, crop.width, crop.bands))[..., :3]  # Keep only the RGB channels\n",
    "    # Uncomment to save the cropped tile to the disk\n",
    "    #ToPILImage()(crop)   #.save(out_file)\n",
    "    # Return the output filename and the cropped image\n",
    "    return out_file, crop"
   ]
  },
  {
   "cell_type": "code",
   "execution_count": 20,
   "id": "24a6b188",
   "metadata": {},
   "outputs": [],
   "source": [
    "def select_crop(slide, output_dir, t, i):\n",
    "    out_file, crop = crop_tile(slide, output_dir,(t[i][0], t[i][1], 512,512) )\n",
    "    #crop = ToPILImage(crop)\n",
    "    bg_flag = is_background(crop, threshold=0.7)\n",
    "    return bg_flag"
   ]
  },
  {
   "cell_type": "code",
   "execution_count": 21,
   "id": "ce56d587",
   "metadata": {},
   "outputs": [],
   "source": [
    "def is_background(tile, threshold=0.8):\n",
    "    \"\"\"\n",
    "    Check if a tile is mostly background (white).\n",
    "    Args:\n",
    "        tile (PIL.Image): The tile image.\n",
    "        threshold (float): Fraction of white pixels to consider as background (0.0–1.0).\n",
    "    Returns:\n",
    "        bool: True if background, False otherwise.\n",
    "    \"\"\"\n",
    "    #img = np.array(tile.convert(\"L\"))  # Convert to grayscale\n",
    "    img = np.array(tile)\n",
    "    white_pixels = np.sum(img > 240)   # Count near-white pixels\n",
    "    total_pixels = img.size\n",
    "    white_ratio = white_pixels / total_pixels\n",
    "    return white_ratio > threshold"
   ]
  },
  {
   "cell_type": "code",
   "execution_count": 22,
   "id": "5c5561ce",
   "metadata": {},
   "outputs": [],
   "source": [
    "for_sel = [select_crop(slide, output_dir, t, i) for i in range(5000)]"
   ]
  },
  {
   "cell_type": "code",
   "execution_count": 28,
   "id": "835dbf0b",
   "metadata": {},
   "outputs": [],
   "source": [
    "false_indices = [i for i in range(len(for_sel)) if for_sel[i]==False]"
   ]
  },
  {
   "cell_type": "code",
   "execution_count": 30,
   "id": "7af25c1c",
   "metadata": {},
   "outputs": [
    {
     "data": {
      "text/plain": [
       "[1213,\n",
       " 1229,\n",
       " 1363,\n",
       " 1497,\n",
       " 1514,\n",
       " 1903,\n",
       " 2052,\n",
       " 2053,\n",
       " 2054,\n",
       " 2055,\n",
       " 2203,\n",
       " 2204,\n",
       " 2205,\n",
       " 2206,\n",
       " 2353,\n",
       " 2354,\n",
       " 2355,\n",
       " 2356,\n",
       " 2357,\n",
       " 2416,\n",
       " 2417,\n",
       " 2418,\n",
       " 2419,\n",
       " 2420,\n",
       " 2421,\n",
       " 2422,\n",
       " 2423,\n",
       " 2424,\n",
       " 2425,\n",
       " 2426,\n",
       " 2427,\n",
       " 2428,\n",
       " 2429,\n",
       " 2430,\n",
       " 2431,\n",
       " 2432,\n",
       " 2433,\n",
       " 2434,\n",
       " 2435,\n",
       " 2505,\n",
       " 2506,\n",
       " 2507,\n",
       " 2568,\n",
       " 2570,\n",
       " 2571,\n",
       " 2572,\n",
       " 2573,\n",
       " 2574,\n",
       " 2575,\n",
       " 2576,\n",
       " 2577,\n",
       " 2578,\n",
       " 2579,\n",
       " 2580,\n",
       " 2581,\n",
       " 2582,\n",
       " 2583,\n",
       " 2584,\n",
       " 2585,\n",
       " 2586,\n",
       " 2587,\n",
       " 2588,\n",
       " 2589,\n",
       " 2590,\n",
       " 2591,\n",
       " 2592,\n",
       " 2593,\n",
       " 2594,\n",
       " 2595,\n",
       " 2596,\n",
       " 2597,\n",
       " 2598,\n",
       " 2599,\n",
       " 2600,\n",
       " 2601,\n",
       " 2602,\n",
       " 2603,\n",
       " 2604,\n",
       " 2605,\n",
       " 2606,\n",
       " 2607,\n",
       " 2608,\n",
       " 2609,\n",
       " 2610,\n",
       " 2611,\n",
       " 2612,\n",
       " 2613,\n",
       " 2614,\n",
       " 2615,\n",
       " 2616,\n",
       " 2617,\n",
       " 2618,\n",
       " 2619,\n",
       " 2620,\n",
       " 2621,\n",
       " 2622,\n",
       " 2623,\n",
       " 2624,\n",
       " 2625,\n",
       " 2626,\n",
       " 2627,\n",
       " 2628,\n",
       " 2629,\n",
       " 2630,\n",
       " 2631,\n",
       " 2765,\n",
       " 2766,\n",
       " 2767,\n",
       " 2768,\n",
       " 2769,\n",
       " 2770,\n",
       " 2771,\n",
       " 2772,\n",
       " 2773,\n",
       " 2774,\n",
       " 2775,\n",
       " 2776,\n",
       " 2777,\n",
       " 2778,\n",
       " 2779,\n",
       " 2780,\n",
       " 2781,\n",
       " 2782,\n",
       " 2783,\n",
       " 2784,\n",
       " 2785,\n",
       " 2786,\n",
       " 2787,\n",
       " 2788,\n",
       " 2789,\n",
       " 2790,\n",
       " 2791,\n",
       " 2792,\n",
       " 2793,\n",
       " 2794,\n",
       " 2795,\n",
       " 2796,\n",
       " 2797,\n",
       " 2798,\n",
       " 2799,\n",
       " 2800,\n",
       " 2801,\n",
       " 2802,\n",
       " 2803,\n",
       " 2804,\n",
       " 2805,\n",
       " 2806,\n",
       " 2807,\n",
       " 2808,\n",
       " 2809,\n",
       " 2810,\n",
       " 2811,\n",
       " 2812,\n",
       " 2813,\n",
       " 2814,\n",
       " 2815,\n",
       " 2816,\n",
       " 2817,\n",
       " 2818,\n",
       " 2819,\n",
       " 2949,\n",
       " 2950,\n",
       " 2951,\n",
       " 2952,\n",
       " 2953,\n",
       " 2954,\n",
       " 2955,\n",
       " 2956,\n",
       " 2957,\n",
       " 2958,\n",
       " 2959,\n",
       " 2960,\n",
       " 2961,\n",
       " 2962,\n",
       " 2963,\n",
       " 2964,\n",
       " 2965,\n",
       " 2966,\n",
       " 2967,\n",
       " 2968,\n",
       " 2969,\n",
       " 2970,\n",
       " 2971,\n",
       " 2972,\n",
       " 2973,\n",
       " 2974,\n",
       " 2975,\n",
       " 2976,\n",
       " 2977,\n",
       " 2978,\n",
       " 2979,\n",
       " 2980,\n",
       " 2981,\n",
       " 2982,\n",
       " 2983,\n",
       " 2984,\n",
       " 2985,\n",
       " 2986,\n",
       " 2987,\n",
       " 2988,\n",
       " 2989,\n",
       " 2990,\n",
       " 2991,\n",
       " 2992,\n",
       " 2993,\n",
       " 2994,\n",
       " 2995,\n",
       " 2996,\n",
       " 2997,\n",
       " 2998,\n",
       " 2999,\n",
       " 3000,\n",
       " 3001,\n",
       " 3002,\n",
       " 3003,\n",
       " 3004,\n",
       " 3005,\n",
       " 3006,\n",
       " 3011,\n",
       " 3134,\n",
       " 3135,\n",
       " 3136,\n",
       " 3137,\n",
       " 3138,\n",
       " 3139,\n",
       " 3140,\n",
       " 3141,\n",
       " 3142,\n",
       " 3143,\n",
       " 3144,\n",
       " 3145,\n",
       " 3146,\n",
       " 3147,\n",
       " 3148,\n",
       " 3149,\n",
       " 3150,\n",
       " 3151,\n",
       " 3152,\n",
       " 3153,\n",
       " 3154,\n",
       " 3155,\n",
       " 3156,\n",
       " 3157,\n",
       " 3158,\n",
       " 3159,\n",
       " 3160,\n",
       " 3161,\n",
       " 3162,\n",
       " 3163,\n",
       " 3164,\n",
       " 3165,\n",
       " 3166,\n",
       " 3167,\n",
       " 3168,\n",
       " 3169,\n",
       " 3170,\n",
       " 3313,\n",
       " 3317,\n",
       " 3318,\n",
       " 3319,\n",
       " 3320,\n",
       " 3321,\n",
       " 3961,\n",
       " 3962,\n",
       " 3963,\n",
       " 3964,\n",
       " 4006,\n",
       " 4110,\n",
       " 4111,\n",
       " 4112,\n",
       " 4113,\n",
       " 4114,\n",
       " 4115,\n",
       " 4116,\n",
       " 4117,\n",
       " 4118,\n",
       " 4119,\n",
       " 4120,\n",
       " 4121,\n",
       " 4122,\n",
       " 4123,\n",
       " 4124,\n",
       " 4125,\n",
       " 4126,\n",
       " 4127,\n",
       " 4157,\n",
       " 4260,\n",
       " 4261,\n",
       " 4262,\n",
       " 4263,\n",
       " 4264,\n",
       " 4265,\n",
       " 4266,\n",
       " 4267,\n",
       " 4268,\n",
       " 4269,\n",
       " 4270,\n",
       " 4271,\n",
       " 4272,\n",
       " 4273,\n",
       " 4274,\n",
       " 4275,\n",
       " 4276,\n",
       " 4277,\n",
       " 4278,\n",
       " 4279,\n",
       " 4280,\n",
       " 4281,\n",
       " 4282,\n",
       " 4283,\n",
       " 4284,\n",
       " 4409,\n",
       " 4410,\n",
       " 4411,\n",
       " 4412,\n",
       " 4413,\n",
       " 4414,\n",
       " 4415,\n",
       " 4416,\n",
       " 4417,\n",
       " 4418,\n",
       " 4419,\n",
       " 4420,\n",
       " 4421,\n",
       " 4422,\n",
       " 4423,\n",
       " 4424,\n",
       " 4425,\n",
       " 4426,\n",
       " 4427,\n",
       " 4428,\n",
       " 4429,\n",
       " 4430,\n",
       " 4431,\n",
       " 4432,\n",
       " 4433,\n",
       " 4434,\n",
       " 4435,\n",
       " 4436,\n",
       " 4437,\n",
       " 4438,\n",
       " 4439,\n",
       " 4455,\n",
       " 4546,\n",
       " 4560,\n",
       " 4561,\n",
       " 4562,\n",
       " 4563,\n",
       " 4564,\n",
       " 4565,\n",
       " 4566,\n",
       " 4567,\n",
       " 4568,\n",
       " 4569,\n",
       " 4570,\n",
       " 4571,\n",
       " 4572,\n",
       " 4573,\n",
       " 4574,\n",
       " 4575,\n",
       " 4576,\n",
       " 4577,\n",
       " 4578,\n",
       " 4579,\n",
       " 4580,\n",
       " 4581,\n",
       " 4582,\n",
       " 4583,\n",
       " 4584,\n",
       " 4585,\n",
       " 4586,\n",
       " 4587,\n",
       " 4588,\n",
       " 4589,\n",
       " 4590,\n",
       " 4591,\n",
       " 4597,\n",
       " 4710,\n",
       " 4711,\n",
       " 4712,\n",
       " 4713,\n",
       " 4714,\n",
       " 4715,\n",
       " 4716,\n",
       " 4717,\n",
       " 4718,\n",
       " 4719,\n",
       " 4720,\n",
       " 4721,\n",
       " 4722,\n",
       " 4723,\n",
       " 4724,\n",
       " 4725,\n",
       " 4726,\n",
       " 4727,\n",
       " 4728,\n",
       " 4729,\n",
       " 4730,\n",
       " 4731,\n",
       " 4732,\n",
       " 4733,\n",
       " 4734,\n",
       " 4735,\n",
       " 4736,\n",
       " 4737,\n",
       " 4738,\n",
       " 4739,\n",
       " 4740,\n",
       " 4741,\n",
       " 4742,\n",
       " 4749,\n",
       " 4750,\n",
       " 4751,\n",
       " 4861,\n",
       " 4862,\n",
       " 4863,\n",
       " 4864,\n",
       " 4865,\n",
       " 4866,\n",
       " 4867,\n",
       " 4868,\n",
       " 4869,\n",
       " 4870,\n",
       " 4871,\n",
       " 4872,\n",
       " 4873,\n",
       " 4874,\n",
       " 4875,\n",
       " 4876,\n",
       " 4877,\n",
       " 4878,\n",
       " 4879,\n",
       " 4880,\n",
       " 4881,\n",
       " 4882,\n",
       " 4883,\n",
       " 4884,\n",
       " 4885,\n",
       " 4886,\n",
       " 4887,\n",
       " 4888,\n",
       " 4889,\n",
       " 4890,\n",
       " 4891,\n",
       " 4892,\n",
       " 4893,\n",
       " 4894,\n",
       " 4895,\n",
       " 4897,\n",
       " 4898,\n",
       " 4912]"
      ]
     },
     "execution_count": 30,
     "metadata": {},
     "output_type": "execute_result"
    }
   ],
   "source": [
    "false_indices"
   ]
  },
  {
   "cell_type": "code",
   "execution_count": 123,
   "id": "79c0521d",
   "metadata": {},
   "outputs": [],
   "source": [
    "val = t[false_indices[50]]"
   ]
  },
  {
   "cell_type": "code",
   "execution_count": 137,
   "id": "b7d4fbf1",
   "metadata": {},
   "outputs": [
    {
     "data": {
      "text/plain": [
       "(10, 17)"
      ]
     },
     "execution_count": 137,
     "metadata": {},
     "output_type": "execute_result"
    }
   ],
   "source": [
    "val"
   ]
  },
  {
   "cell_type": "code",
   "execution_count": 124,
   "id": "d7354e2a",
   "metadata": {},
   "outputs": [],
   "source": [
    "crop = slide.crop(val[1]*512, val[0]*512,512,512)"
   ]
  },
  {
   "cell_type": "code",
   "execution_count": 125,
   "id": "8deb23f5",
   "metadata": {},
   "outputs": [
    {
     "data": {
      "text/plain": [
       "<pyvips.Image 512x512 uchar, 4 bands, srgb>"
      ]
     },
     "execution_count": 125,
     "metadata": {},
     "output_type": "execute_result"
    }
   ],
   "source": [
    "crop"
   ]
  },
  {
   "cell_type": "code",
   "execution_count": 126,
   "id": "645e8100",
   "metadata": {},
   "outputs": [],
   "source": [
    "crop = np.ndarray(\n",
    "            buffer=crop.write_to_memory(), dtype=np.uint8,\n",
    "            shape=(crop.height, crop.width, crop.bands))[..., :3]  # Keep only the RGB channels"
   ]
  },
  {
   "cell_type": "code",
   "execution_count": 127,
   "id": "360f345c",
   "metadata": {},
   "outputs": [],
   "source": [
    "crp = ToPILImage(crop)"
   ]
  },
  {
   "cell_type": "code",
   "execution_count": 128,
   "id": "cd88b84d",
   "metadata": {},
   "outputs": [],
   "source": [
    "crp = Image.fromarray(crop)"
   ]
  },
  {
   "cell_type": "code",
   "execution_count": 129,
   "id": "b1308a45",
   "metadata": {},
   "outputs": [],
   "source": [
    "def get_bbox(row, col,pred_mask):\n",
    "    class_ids = np.unique(pred_mask)\n",
    "    class_ids = class_ids[class_ids != 0]\n",
    "    pred_boxes = []\n",
    "    for class_id in class_ids:\n",
    "        # Create binary mask for this class\n",
    "        binary = (pred_mask == class_id).astype(np.uint8)\n",
    "\n",
    "        # Find contours for that class\n",
    "        contours, _ = cv2.findContours(binary, cv2.RETR_EXTERNAL, cv2.CHAIN_APPROX_SIMPLE)\n",
    "        \n",
    "        #contours = list(map(lambda t: t[0], sorted([(contour, cv2.contourArea(contour)) for contour in contours], key=lambda t: -t[1])))\n",
    "\n",
    "        sorted_with_area = sorted([(c, cv2.contourArea(c)) for c in contours], key=lambda x: x[1],reverse=True)\n",
    "        for contour, area in sorted_with_area:\n",
    "            if area>5000:\n",
    "                print(area)\n",
    "                x, y, w, h = cv2.boundingRect(contour)\n",
    "                pred_boxes.append([row, col, x, y, w, h])\n",
    "            #cv2.rectangle(img, (x, y), (x + w, y + h), (255, 0, 0), 4)\n",
    "    return pred_boxes"
   ]
  },
  {
   "cell_type": "code",
   "execution_count": 141,
   "id": "64938451",
   "metadata": {},
   "outputs": [
    {
     "name": "stdout",
     "output_type": "stream",
     "text": [
      "tensor([[[[ 4.6517,  4.6517,  4.6517,  ...,  3.0512,  3.0512,  3.0512],\n",
      "          [ 4.6517,  4.6517,  4.6517,  ...,  3.0512,  3.0512,  3.0512],\n",
      "          [ 4.6517,  4.6517,  4.6517,  ...,  3.0512,  3.0512,  3.0512],\n",
      "          ...,\n",
      "          [ 4.1629,  4.1629,  4.1629,  ...,  4.0203,  4.0203,  4.0203],\n",
      "          [ 4.1629,  4.1629,  4.1629,  ...,  4.0203,  4.0203,  4.0203],\n",
      "          [ 4.1629,  4.1629,  4.1629,  ...,  4.0203,  4.0203,  4.0203]],\n",
      "\n",
      "         [[-5.3782, -5.3782, -5.3782,  ..., -5.0177, -5.0177, -5.0177],\n",
      "          [-5.3782, -5.3782, -5.3782,  ..., -5.0177, -5.0177, -5.0177],\n",
      "          [-5.3782, -5.3782, -5.3782,  ..., -5.0177, -5.0177, -5.0177],\n",
      "          ...,\n",
      "          [-4.5219, -4.5219, -4.5219,  ..., -4.3875, -4.3875, -4.3875],\n",
      "          [-4.5219, -4.5219, -4.5219,  ..., -4.3875, -4.3875, -4.3875],\n",
      "          [-4.5219, -4.5219, -4.5219,  ..., -4.3875, -4.3875, -4.3875]],\n",
      "\n",
      "         [[-2.1667, -2.1667, -2.1667,  ..., -1.1454, -1.1454, -1.1454],\n",
      "          [-2.1667, -2.1667, -2.1667,  ..., -1.1454, -1.1454, -1.1454],\n",
      "          [-2.1667, -2.1667, -2.1667,  ..., -1.1454, -1.1454, -1.1454],\n",
      "          ...,\n",
      "          [-2.1963, -2.1963, -2.1963,  ..., -2.5127, -2.5127, -2.5127],\n",
      "          [-2.1963, -2.1963, -2.1963,  ..., -2.5127, -2.5127, -2.5127],\n",
      "          [-2.1963, -2.1963, -2.1963,  ..., -2.5127, -2.5127, -2.5127]]]],\n",
      "       device='cuda:0') torch.Size([1, 3, 1022, 1022])\n",
      "[[0 0 0 ... 0 0 0]\n",
      " [0 0 0 ... 0 0 0]\n",
      " [0 0 0 ... 0 0 0]\n",
      " ...\n",
      " [0 0 0 ... 0 0 0]\n",
      " [0 0 0 ... 0 0 0]\n",
      " [0 0 0 ... 0 0 0]]\n",
      "18225.5\n"
     ]
    }
   ],
   "source": [
    "img, pred_mask = make_prediction(crp)\n",
    "pred_boxes = get_bbox(8, 5, pred_mask)"
   ]
  },
  {
   "cell_type": "code",
   "execution_count": 142,
   "id": "f5929f93",
   "metadata": {},
   "outputs": [
    {
     "data": {
      "text/plain": [
       "[[8, 5, 48, 0, 51, 512]]"
      ]
     },
     "execution_count": 142,
     "metadata": {},
     "output_type": "execute_result"
    }
   ],
   "source": [
    "pred_boxes"
   ]
  },
  {
   "cell_type": "code",
   "execution_count": 143,
   "id": "f6292a7c",
   "metadata": {},
   "outputs": [
    {
     "data": {
      "image/jpeg": "[encoded data removed]",
      "image/png": "[encoded data removed]",
      "text/plain": [
       "<PIL.Image.Image image mode=RGB size=512x512>"
      ]
     },
     "execution_count": 143,
     "metadata": {},
     "output_type": "execute_result"
    }
   ],
   "source": [
    "crp"
   ]
  },
  {
   "cell_type": "code",
   "execution_count": 132,
   "id": "ea43a710",
   "metadata": {},
   "outputs": [],
   "source": [
    "mask_rescaled = cv2.resize(pred_mask, (512, 512), interpolation=cv2.INTER_NEAREST)\n"
   ]
  },
  {
   "cell_type": "code",
   "execution_count": 144,
   "id": "8c0b4787",
   "metadata": {},
   "outputs": [
    {
     "data": {
      "text/plain": [
       "array([0, 2], dtype=int32)"
      ]
     },
     "execution_count": 144,
     "metadata": {},
     "output_type": "execute_result"
    }
   ],
   "source": [
    "np.unique(pred_mask)"
   ]
  },
  {
   "cell_type": "code",
   "execution_count": 135,
   "id": "1226a684",
   "metadata": {},
   "outputs": [
    {
     "data": {
      "image/jpeg": "[encoded data removed]",
      "image/png": "[encoded data removed]",
      "text/plain": [
       "<PIL.Image.Image image mode=1 size=512x512>"
      ]
     },
     "execution_count": 135,
     "metadata": {},
     "output_type": "execute_result"
    }
   ],
   "source": [
    "Image.fromarray(pred_mask==2)"
   ]
  },
  {
   "cell_type": "code",
   "execution_count": null,
   "id": "2e8f8fa4",
   "metadata": {},
   "outputs": [],
   "source": []
  },
  {
   "cell_type": "code",
   "execution_count": 64,
   "id": "e2ecc711",
   "metadata": {},
   "outputs": [
    {
     "data": {
      "text/plain": [
       "(1022, 1022)"
      ]
     },
     "execution_count": 64,
     "metadata": {},
     "output_type": "execute_result"
    }
   ],
   "source": [
    "pred_mask.shape"
   ]
  },
  {
   "cell_type": "code",
   "execution_count": null,
   "id": "42a5c95b",
   "metadata": {},
   "outputs": [],
   "source": []
  }
 ],
 "metadata": {
  "kernelspec": {
   "display_name": "kfold_amy_plaque1",
   "language": "python",
   "name": "python3"
  },
  "language_info": {
   "codemirror_mode": {
    "name": "ipython",
    "version": 3
   },
   "file_extension": ".py",
   "mimetype": "text/x-python",
   "name": "python",
   "nbconvert_exporter": "python",
   "pygments_lexer": "ipython3",
   "version": "3.9.7"
  }
 },
 "nbformat": 4,
 "nbformat_minor": 5
}
